{
  "nbformat": 4,
  "nbformat_minor": 0,
  "metadata": {
    "colab": {
      "provenance": []
    },
    "kernelspec": {
      "name": "python3",
      "display_name": "Python 3"
    },
    "language_info": {
      "name": "python"
    }
  },
  "cells": [
    {
      "cell_type": "code",
      "execution_count": 1,
      "metadata": {
        "colab": {
          "base_uri": "https://localhost:8080/"
        },
        "id": "QqQcwmKePe6r",
        "outputId": "178bcbde-fcef-4f7c-a5f6-7af1aa0d9211"
      },
      "outputs": [
        {
          "output_type": "stream",
          "name": "stderr",
          "text": [
            "/usr/local/lib/python3.12/dist-packages/urllib3/connectionpool.py:1097: InsecureRequestWarning: Unverified HTTPS request is being made to host 'himatif.trunojoyo.ac.id'. Adding certificate verification is strongly advised. See: https://urllib3.readthedocs.io/en/latest/advanced-usage.html#tls-warnings\n",
            "  warnings.warn(\n"
          ]
        },
        {
          "output_type": "stream",
          "name": "stdout",
          "text": [
            "=== HEADING (H1, H2, H3) ===\n",
            "H1: Himpunan Mahasiswa Teknik Informatika\n",
            "H3: HIMATIF UTM 2025\n",
            "H3: Department HIMATIF 2025\n",
            "H3: Katalisator Karya\n",
            "H3: Board of Executive\n",
            "H3: Entrepreneurship\n",
            "H3: Student Welfare\n",
            "H3: Creative Branding\n",
            "H3: Human Resource\n",
            "H3: Tech Issue and Exploration\n",
            "H3: Public Relation\n",
            "H3: Profil Program Studi Teknik Informatika\n",
            "H3: Our Vision & Mission\n",
            "H3: PWH\n",
            "H3: Achievment!\n",
            "H3: Banner 5\n",
            "H3: FAQ (Frequently Asked Questions)\n",
            "H3: Bagaimana cara membuat surat keterangan aktif kuliah?\n",
            "H3: Bagaimana cara mengajukan cuti kuliah?\n",
            "H3: Bagaimana tata cara melakukan Kartu Rencana Studi (KRS)?\n",
            "H3: Bagaimana cara menyelesaikan permasalahan pada email kampus?\n",
            "H3: Bagaimana cara mengajukan Kerja Praktek (KP)?\n",
            "H3: Bagaimana langkah-langkah mengajukan MBKM?\n",
            "H3: HIMATIF Address\n",
            "H3: Social Media\n",
            "H3: Click on one of our representatives below to chat on WhatsApp\n",
            "\n",
            "=== LINK ===\n",
            "URL: https://himatif.trunojoyo.ac.id/#main | Teks: Langsung ke konten utama\n",
            "URL: https://himatif.trunojoyo.ac.id/ | Teks: \n",
            "URL: https://himatif.trunojoyo.ac.id/ | Teks: Himpunan Mahasiswa Teknik Informatika\n",
            "URL: https://himatif.trunojoyo.ac.id/ | Teks: Home\n",
            "URL: https://himatif.trunojoyo.ac.id/ | Teks: About\n",
            "URL: https://himatif.trunojoyo.ac.id/2013/02/sejarah-himatif_7632.html | Teks: _Sejarah HIMATIF\n",
            "URL: https://himatif.trunojoyo.ac.id/2025/02/struktural-kepengurusan-himatif-2025.html | Teks: _Struktur Kepengurusan\n",
            "URL: https://himatif.trunojoyo.ac.id/ | Teks: _Logo HIMATIF\n",
            "URL: https://himatif.trunojoyo.ac.id/ | Teks: Document\n",
            "URL: https://himatif.trunojoyo.ac.id/ | Teks: _HIMATIF\n",
            "URL: https://himatif.trunojoyo.ac.id/2025/07/adart-himatif.html | Teks: __AD/ART\n",
            "URL: https://himatif.trunojoyo.ac.id/2025/07/garis-besar-haluan-organisasi.html | Teks: __GBHO\n",
            "URL: https://himatif.trunojoyo.ac.id/2025/07/peraturan-daerah.html | Teks: __PERDA\n",
            "URL: https://himatif.trunojoyo.ac.id/search/label/Akademik | Teks: _Akademik\n",
            "URL: https://himatif.trunojoyo.ac.id/ | Teks: Event\n",
            "URL: https://himatif.trunojoyo.ac.id/search/label/Booting%20and%20Memory%202025 | Teks: _Booting & Memory 2025\n",
            "URL: https://himatif.trunojoyo.ac.id/ | Teks: _Fast\n",
            "URL: https://himatif.trunojoyo.ac.id/2025/ | Teks: Archives\n",
            "URL: https://drive.usercontent.google.com/u/0/uc?id=1lNtyOQUcMN6S9EvaQaOCctdvuFNcdIIU&export=download | Teks: Media Partner\n",
            "URL: https://docs.google.com/forms/d/e/1FAIpQLSeErMIb8NdWNzFn9Nw1hgYM_vslfvrHjIRO10GUwx35m-x1bQ/viewform?usp=dialog | Teks: Katalis Muda\n",
            "URL: https://himatif.trunojoyo.ac.id/search/label/Produk?&max-results=8 | Teks: Shop\n",
            "URL: https://himatif.trunojoyo.ac.id/p/checkout.html | Teks: Checkout\n",
            "URL: javascript:; | Teks: empty cart\n",
            "URL: https://himatif.trunojoyo.ac.id/2025/07/logo-katalisator-karya.html | Teks: \n",
            "URL: https://himatif.trunojoyo.ac.id/2025/05/board-of-executive.html | Teks: \n",
            "URL: https://himatif.trunojoyo.ac.id/2025/07/departemen-entrepreneurship.html | Teks: \n",
            "URL: https://himatif.trunojoyo.ac.id/2025/06/departement-student-welfare.html | Teks: \n",
            "URL: https://himatif.trunojoyo.ac.id/2025/06/departemen-creative-branding.html | Teks: \n",
            "URL: https://himatif.trunojoyo.ac.id/2025/05/departement-human-resource.html | Teks: \n",
            "URL: https://himatif.trunojoyo.ac.id/2025/05/departemen-tech-issue-exploration.html | Teks: \n",
            "URL: https://himatif.trunojoyo.ac.id/2025/05/blog-post.html?zx=d1ffcdcb14244076 | Teks: \n",
            "URL: https://www.youtube.com/watch?v=dRI_4EdwcQE | Teks: Open YouTube Video\n",
            "URL: https://youtu.be/ma7p0jpEPzs | Teks: Tonton\n",
            "URL: https://himatif.trunojoyo.ac.id/youtube.com | Teks: Stay Tuned\n",
            "URL: https://himatif.trunojoyo.ac.id/youtube.com | Teks: Stay Tuned\n",
            "URL: https://himatif.trunojoyo.ac.id/2025/07/surat-keterangan-aktif-kuliah-body-font.html | Teks: Selengkapnya\n",
            "URL: https://himatif.trunojoyo.ac.id/2025/07/pengajuan-cuti-kuliah.html | Teks: Selengkapnya\n",
            "URL: https://himatif.trunojoyo.ac.id/2025/07/tata-cara-melakukan-krs.html | Teks: Selengkapnya\n",
            "URL: https://himatif.trunojoyo.ac.id/2025/07/langkah-menyelesaikan-email-kampus.html | Teks: Selengkapnya\n",
            "URL: https://himatif.trunojoyo.ac.id/2025/07/tata-cara-mengajukan-kerja-praktek-kp.html | Teks: Selengkapnya\n",
            "URL: https://himatif.trunojoyo.ac.id/2025/07/langkah-langkah-pengajuan-mbkm-body.html | Teks: Selengkapnya\n",
            "URL: https://www.instagram.com/himatifutm/ | Teks: Instagram\n",
            "URL: https://www.youtube.com/c/HimatifTrunojoyo | Teks: Youtube\n",
            "URL: https://www.tiktok.com/@himatifutm?is_from_webapp=1&sender_device=pc | Teks: Tiktok\n",
            "URL: https://www.twitter.com/himatifUTM | Teks: Twitter\n",
            "URL: https://himatif.trunojoyo.ac.id/ | Teks: Himpunan Mahasiswa Teknik Informatika\n"
          ]
        }
      ],
      "source": [
        "import requests\n",
        "from bs4 import BeautifulSoup\n",
        "from urllib.parse import urljoin\n",
        "\n",
        "def crawl_website(url):\n",
        "    try:\n",
        "        response = requests.get(url, verify=False)  # abaikan SSL\n",
        "        response.raise_for_status()\n",
        "\n",
        "        soup = BeautifulSoup(response.content, 'html.parser')\n",
        "\n",
        "        print(\"=== HEADING (H1, H2, H3) ===\")\n",
        "        for heading in soup.find_all(['h1', 'h2', 'h3']):\n",
        "            print(f\"{heading.name.upper()}: {heading.get_text(strip=True)}\")\n",
        "\n",
        "        print(\"\\n=== LINK ===\")\n",
        "        for link in soup.find_all('a', href=True):\n",
        "            full_url = urljoin(url, link['href'])\n",
        "            print(f\"URL: {full_url} | Teks: {link.get_text(strip=True)}\")\n",
        "\n",
        "    except requests.exceptions.RequestException as e:\n",
        "        print(f\"Terjadi kesalahan saat mengakses {url}: {e}\")\n",
        "\n",
        "# Jalankan untuk Informatika Trunojoyo\n",
        "crawl_website(\"https://himatif.trunojoyo.ac.id/\")\n"
      ]
    }
  ]
}