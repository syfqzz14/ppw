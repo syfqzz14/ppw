{
 "cells": [
  {
   "cell_type": "markdown",
   "id": "aa7624d2",
   "metadata": {},
   "source": [
    "# Klasifikasi Berita TF-IDF dan CBOW"
   ]
  },
  {
   "cell_type": "code",
   "execution_count": 56,
   "id": "1a4d5ccc",
   "metadata": {},
   "outputs": [
    {
     "name": "stdout",
     "output_type": "stream",
     "text": [
      "Defaulting to user installation because normal site-packages is not writeable\n",
      "Requirement already satisfied: nltk in c:\\users\\syafiq azizi\\appdata\\roaming\\python\\python312\\site-packages (3.9.1)\n",
      "Requirement already satisfied: click in c:\\users\\syafiq azizi\\appdata\\roaming\\python\\python312\\site-packages (from nltk) (8.2.0)\n",
      "Requirement already satisfied: joblib in c:\\users\\syafiq azizi\\appdata\\roaming\\python\\python312\\site-packages (from nltk) (1.3.2)\n",
      "Requirement already satisfied: regex>=2021.8.3 in c:\\users\\syafiq azizi\\appdata\\roaming\\python\\python312\\site-packages (from nltk) (2025.9.18)\n",
      "Requirement already satisfied: tqdm in c:\\users\\syafiq azizi\\appdata\\roaming\\python\\python312\\site-packages (from nltk) (4.67.1)\n",
      "Requirement already satisfied: colorama in c:\\users\\syafiq azizi\\appdata\\roaming\\python\\python312\\site-packages (from click->nltk) (0.4.6)\n"
     ]
    }
   ],
   "source": [
    "!pip install nltk\n"
   ]
  },
  {
   "cell_type": "code",
   "execution_count": 58,
   "id": "35b1728e",
   "metadata": {},
   "outputs": [
    {
     "name": "stdout",
     "output_type": "stream",
     "text": [
      "Jumlah data: 50\n",
      "                                           id_berita  \\\n",
      "0  https://www.antaranews.com/berita/5101501/poli...   \n",
      "1  https://www.antaranews.com/berita/5101497/ktt-...   \n",
      "2  https://www.antaranews.com/berita/5101493/komi...   \n",
      "3  https://www.antaranews.com/berita/5101489/pemp...   \n",
      "4  https://www.antaranews.com/foto/5101485/truk-t...   \n",
      "\n",
      "                                        judul_berita  \\\n",
      "0  Polisi: Freeport terus berjuang evakuasi peker...   \n",
      "1  KTT Sabuk dan Jalur Sutra di Hong Kong eksplor...   \n",
      "2  Komisi I DPR minta WNI segera dievakuasi dari ...   \n",
      "3  Pemprov Bali hitung kerugian 474 pedagang pasa...   \n",
      "4  Truk tangki gas meledak di Meksiko, sekitar 57...   \n",
      "\n",
      "                                          isi_berita kategori_berita  \n",
      "0  Timika (ANTARA) - Kepolisian Sektor Tembagapur...       Humaniora  \n",
      "1  Hong Kong (ANTARA) - Konferensi Tingkat Tinggi...           Dunia  \n",
      "2  Jakarta (ANTARA) - Anggota Komisi I DPR RI Tau...         Politik  \n",
      "3  Denpasar (ANTARA) - Pemerintah Provinsi Bali t...       Humaniora  \n",
      "4  Petugas pemadam kebakaran bekerja di lokasi ke...            Foto  \n",
      "\n",
      "Contoh hasil preprocessing:\n",
      "                                          isi_berita  \\\n",
      "0  Timika (ANTARA) - Kepolisian Sektor Tembagapur...   \n",
      "1  Hong Kong (ANTARA) - Konferensi Tingkat Tinggi...   \n",
      "2  Jakarta (ANTARA) - Anggota Komisi I DPR RI Tau...   \n",
      "3  Denpasar (ANTARA) - Pemerintah Provinsi Bali t...   \n",
      "4  Petugas pemadam kebakaran bekerja di lokasi ke...   \n",
      "\n",
      "                                        clean_berita  \n",
      "0  timika kepolisian sektor tembagapura tim emerg...  \n",
      "1  hong kong konferensi tingkat ktt sabuk jalur s...  \n",
      "2  jakarta anggota komisi i dpr ri taufiq abdulla...  \n",
      "3  denpasar pemerintah provinsi bali menghitung k...  \n",
      "4  petugas pemadam kebakaran lokasi kecelakaan le...  \n"
     ]
    },
    {
     "name": "stderr",
     "output_type": "stream",
     "text": [
      "[nltk_data] Downloading package stopwords to C:\\Users\\Syafiq\n",
      "[nltk_data]     Azizi\\AppData\\Roaming\\nltk_data...\n",
      "[nltk_data]   Package stopwords is already up-to-date!\n"
     ]
    }
   ],
   "source": [
    "import pandas as pd\n",
    "import re\n",
    "import nltk\n",
    "\n",
    "nltk.download(\"stopwords\")\n",
    "from nltk.corpus import stopwords\n",
    "stop_words = stopwords.words(\"indonesian\")\n",
    "\n",
    "# Load dataset\n",
    "df = pd.read_csv(\"berita_antaranews.csv\")\n",
    "\n",
    "print(\"Jumlah data:\", len(df))\n",
    "print(df.head())\n",
    "\n",
    "#Preprocessing\n",
    "def clean_text(text):\n",
    "    text = text.lower()\n",
    "    text = re.sub(r\"[^a-zA-Z\\s]\", \"\", text)\n",
    "    text = \" \".join([w for w in text.split() if w not in stop_words])\n",
    "    return text\n",
    "\n",
    "df[\"clean_berita\"] = df[\"isi_berita\"].astype(str).apply(clean_text)\n",
    "\n",
    "print(\"\\nContoh hasil preprocessing:\")\n",
    "print(df[[\"isi_berita\", \"clean_berita\"]].head())\n"
   ]
  },
  {
   "cell_type": "code",
   "execution_count": 74,
   "id": "12af5ecf",
   "metadata": {},
   "outputs": [
    {
     "name": "stdout",
     "output_type": "stream",
     "text": [
      "Distribusi label setelah filter:\n",
      "kategori_berita\n",
      "Humaniora        17\n",
      "Hukum             9\n",
      "Tekno             4\n",
      "Rilis Pers        3\n",
      "Politik           2\n",
      "Foto              2\n",
      "Internasional     2\n",
      "Bisnis            2\n",
      "Lintas Kota       2\n",
      "Name: count, dtype: int64\n",
      "\n",
      "=== Evaluasi Naive Bayes ===\n",
      "Accuracy: 0.5555555555555556\n",
      "Confusion Matrix:\n",
      " [[1 1 0 0 0]\n",
      " [0 4 0 0 0]\n",
      " [0 1 0 0 0]\n",
      " [0 1 0 0 0]\n",
      " [0 1 0 0 0]]\n",
      "Classification Report:\n",
      "               precision    recall  f1-score   support\n",
      "\n",
      "           2       1.00      0.50      0.67         2\n",
      "           3       0.50      1.00      0.67         4\n",
      "           5       0.00      0.00      0.00         1\n",
      "           7       0.00      0.00      0.00         1\n",
      "           8       0.00      0.00      0.00         1\n",
      "\n",
      "    accuracy                           0.56         9\n",
      "   macro avg       0.30      0.30      0.27         9\n",
      "weighted avg       0.44      0.56      0.44         9\n",
      "\n"
     ]
    },
    {
     "name": "stderr",
     "output_type": "stream",
     "text": [
      "C:\\Users\\Syafiq Azizi\\AppData\\Roaming\\Python\\Python312\\site-packages\\sklearn\\metrics\\_classification.py:1509: UndefinedMetricWarning: Precision is ill-defined and being set to 0.0 in labels with no predicted samples. Use `zero_division` parameter to control this behavior.\n",
      "  _warn_prf(average, modifier, f\"{metric.capitalize()} is\", len(result))\n",
      "C:\\Users\\Syafiq Azizi\\AppData\\Roaming\\Python\\Python312\\site-packages\\sklearn\\metrics\\_classification.py:1509: UndefinedMetricWarning: Precision is ill-defined and being set to 0.0 in labels with no predicted samples. Use `zero_division` parameter to control this behavior.\n",
      "  _warn_prf(average, modifier, f\"{metric.capitalize()} is\", len(result))\n",
      "C:\\Users\\Syafiq Azizi\\AppData\\Roaming\\Python\\Python312\\site-packages\\sklearn\\metrics\\_classification.py:1509: UndefinedMetricWarning: Precision is ill-defined and being set to 0.0 in labels with no predicted samples. Use `zero_division` parameter to control this behavior.\n",
      "  _warn_prf(average, modifier, f\"{metric.capitalize()} is\", len(result))\n"
     ]
    }
   ],
   "source": [
    "# =========================\n",
    "# TF-IDF + Naive Bayes\n",
    "# Dengan filter kelas kecil\n",
    "# =========================\n",
    "\n",
    "import pandas as pd\n",
    "from sklearn.model_selection import train_test_split\n",
    "from sklearn.feature_extraction.text import TfidfVectorizer\n",
    "from sklearn.naive_bayes import MultinomialNB\n",
    "from sklearn.linear_model import LogisticRegression\n",
    "from sklearn.metrics import accuracy_score, confusion_matrix, classification_report\n",
    "\n",
    "# --- 1. Filter kelas dengan kurang dari 2 contoh ---\n",
    "df_filtered = df.groupby('kategori_berita').filter(lambda x: len(x) > 1)\n",
    "print(\"Distribusi label setelah filter:\")\n",
    "print(df_filtered['kategori_berita'].value_counts())\n",
    "\n",
    "# --- 2. Split data ---\n",
    "from sklearn.preprocessing import LabelEncoder\n",
    "\n",
    "le = LabelEncoder()\n",
    "y_encoded = le.fit_transform(df_filtered['kategori_berita'])\n",
    "\n",
    "X_train_tfidf, X_test_tfidf, y_train_tfidf, y_test_tfidf = train_test_split(\n",
    "    df_filtered['isi_berita'],\n",
    "    y_encoded,   # <- pakai angka\n",
    "    test_size=0.2,\n",
    "    random_state=42,\n",
    "    stratify=y_encoded\n",
    ")\n",
    "\n",
    "\n",
    "# --- 3. TF-IDF Vectorization ---\n",
    "tfidf = TfidfVectorizer(max_features=5000, ngram_range=(1,2))\n",
    "X_train_tfidf = tfidf.fit_transform(X_train_tfidf)\n",
    "X_test_tfidf = tfidf.transform(X_test_tfidf)\n",
    "\n",
    "# --- 4. Naive Bayes Classification ---\n",
    "nb_model = MultinomialNB()\n",
    "nb_model.fit(X_train_tfidf, y_train_tfidf)\n",
    "y_pred_nb_tfidf = nb_model.predict(X_test_tfidf)\n",
    "\n",
    "# --- Evaluasi Naive Bayes (TF-IDF) ---\n",
    "acc_nb_tfidf = accuracy_score(y_test_tfidf, y_pred_nb_tfidf)\n",
    "print(\"\\n=== Evaluasi Naive Bayes ===\")\n",
    "print(\"Accuracy:\", acc_nb_tfidf)\n",
    "print(\"Confusion Matrix:\\n\", confusion_matrix(y_test_tfidf, y_pred_nb_tfidf))\n",
    "print(\"Classification Report:\\n\", classification_report(y_test_tfidf, y_pred_nb_tfidf))\n",
    "\n",
    "\n",
    "\n"
   ]
  },
  {
   "cell_type": "code",
   "execution_count": 75,
   "id": "cbecbf2f",
   "metadata": {},
   "outputs": [
    {
     "name": "stdout",
     "output_type": "stream",
     "text": [
      "Distribusi label setelah filter:\n",
      "kategori_berita\n",
      "Humaniora        17\n",
      "Hukum             9\n",
      "Tekno             4\n",
      "Rilis Pers        3\n",
      "Politik           2\n",
      "Foto              2\n",
      "Internasional     2\n",
      "Bisnis            2\n",
      "Lintas Kota       2\n",
      "Name: count, dtype: int64\n",
      "\n",
      "=== Evaluasi Logistic Regression ===\n",
      "Accuracy: 0.5555555555555556\n",
      "Confusion Matrix:\n",
      " [[1 1 0 0 0]\n",
      " [0 4 0 0 0]\n",
      " [0 1 0 0 0]\n",
      " [0 1 0 0 0]\n",
      " [0 1 0 0 0]]\n",
      "Classification Report:\n",
      "               precision    recall  f1-score   support\n",
      "\n",
      "           2       1.00      0.50      0.67         2\n",
      "           3       0.50      1.00      0.67         4\n",
      "           5       0.00      0.00      0.00         1\n",
      "           7       0.00      0.00      0.00         1\n",
      "           8       0.00      0.00      0.00         1\n",
      "\n",
      "    accuracy                           0.56         9\n",
      "   macro avg       0.30      0.30      0.27         9\n",
      "weighted avg       0.44      0.56      0.44         9\n",
      "\n"
     ]
    },
    {
     "name": "stderr",
     "output_type": "stream",
     "text": [
      "C:\\Users\\Syafiq Azizi\\AppData\\Roaming\\Python\\Python312\\site-packages\\sklearn\\metrics\\_classification.py:1509: UndefinedMetricWarning: Precision is ill-defined and being set to 0.0 in labels with no predicted samples. Use `zero_division` parameter to control this behavior.\n",
      "  _warn_prf(average, modifier, f\"{metric.capitalize()} is\", len(result))\n",
      "C:\\Users\\Syafiq Azizi\\AppData\\Roaming\\Python\\Python312\\site-packages\\sklearn\\metrics\\_classification.py:1509: UndefinedMetricWarning: Precision is ill-defined and being set to 0.0 in labels with no predicted samples. Use `zero_division` parameter to control this behavior.\n",
      "  _warn_prf(average, modifier, f\"{metric.capitalize()} is\", len(result))\n",
      "C:\\Users\\Syafiq Azizi\\AppData\\Roaming\\Python\\Python312\\site-packages\\sklearn\\metrics\\_classification.py:1509: UndefinedMetricWarning: Precision is ill-defined and being set to 0.0 in labels with no predicted samples. Use `zero_division` parameter to control this behavior.\n",
      "  _warn_prf(average, modifier, f\"{metric.capitalize()} is\", len(result))\n"
     ]
    }
   ],
   "source": [
    "import pandas as pd\n",
    "from sklearn.model_selection import train_test_split\n",
    "from sklearn.feature_extraction.text import TfidfVectorizer\n",
    "from sklearn.linear_model import LogisticRegression\n",
    "from sklearn.metrics import accuracy_score, confusion_matrix, classification_report\n",
    "\n",
    "# --- 1. Filter kelas dengan kurang dari 2 contoh ---\n",
    "df_filtered = df.groupby('kategori_berita').filter(lambda x: len(x) > 1)\n",
    "print(\"Distribusi label setelah filter:\")\n",
    "print(df_filtered['kategori_berita'].value_counts())\n",
    "\n",
    "# --- 2. Split data ---\n",
    "from sklearn.preprocessing import LabelEncoder\n",
    "\n",
    "le = LabelEncoder()\n",
    "y_encoded = le.fit_transform(df_filtered['kategori_berita'])\n",
    "\n",
    "X_train__tfidf, X_test_tfidf, y_train, y_test_tfidf = train_test_split(\n",
    "    df_filtered['isi_berita'],\n",
    "    y_encoded,   # <- pakai angka\n",
    "    test_size=0.2,\n",
    "    random_state=42,\n",
    "    stratify=y_encoded\n",
    ")\n",
    "\n",
    "\n",
    "# --- 3. TF-IDF Vectorization ---\n",
    "tfidf = TfidfVectorizer(max_features=5000, ngram_range=(1,2))\n",
    "X_train__tfidf_tfidf = tfidf.fit_transform(X_train__tfidf)\n",
    "X_test_tfidf = tfidf.transform(X_test_tfidf)\n",
    "# --- 5. Logistic Regression Classification ---\n",
    "lr_model = LogisticRegression(max_iter=1000)\n",
    "lr_model.fit(X_train__tfidf_tfidf, y_train_tfidf)\n",
    "y_pred_lr_tfidf = lr_model.predict(X_test_tfidf)\n",
    "\n",
    "# --- Evaluasi Logistic Regression (TF-IDF) ---\n",
    "acc_lr_tfidf = accuracy_score(y_test_tfidf, y_pred_lr_tfidf)\n",
    "print(\"\\n=== Evaluasi Logistic Regression ===\")\n",
    "print(\"Accuracy:\", acc_lr_tfidf)\n",
    "print(\"Confusion Matrix:\\n\", confusion_matrix(y_test, y_pred_lr_tfidf))\n",
    "print(\"Classification Report:\\n\", classification_report(y_test_tfidf, y_pred_lr_tfidf))"
   ]
  },
  {
   "cell_type": "code",
   "execution_count": 76,
   "id": "3e62ba89",
   "metadata": {},
   "outputs": [
    {
     "name": "stdout",
     "output_type": "stream",
     "text": [
      "Defaulting to user installation because normal site-packages is not writeable\n",
      "Looking in indexes: https://download.pytorch.org/whl/cpu\n",
      "Requirement already satisfied: torch in c:\\users\\syafiq azizi\\appdata\\roaming\\python\\python312\\site-packages (2.8.0)\n",
      "Requirement already satisfied: torchvision in c:\\users\\syafiq azizi\\appdata\\roaming\\python\\python312\\site-packages (0.23.0+cpu)\n",
      "Requirement already satisfied: torchaudio in c:\\users\\syafiq azizi\\appdata\\roaming\\python\\python312\\site-packages (2.8.0+cpu)\n",
      "Requirement already satisfied: filelock in c:\\users\\syafiq azizi\\appdata\\roaming\\python\\python312\\site-packages (from torch) (3.13.1)\n",
      "Requirement already satisfied: typing-extensions>=4.10.0 in c:\\users\\syafiq azizi\\appdata\\roaming\\python\\python312\\site-packages (from torch) (4.14.0)\n",
      "Requirement already satisfied: sympy>=1.13.3 in c:\\users\\syafiq azizi\\appdata\\roaming\\python\\python312\\site-packages (from torch) (1.14.0)\n",
      "Requirement already satisfied: networkx in c:\\users\\syafiq azizi\\appdata\\roaming\\python\\python312\\site-packages (from torch) (3.5)\n",
      "Requirement already satisfied: jinja2 in c:\\users\\syafiq azizi\\appdata\\roaming\\python\\python312\\site-packages (from torch) (3.1.6)\n",
      "Requirement already satisfied: fsspec in c:\\users\\syafiq azizi\\appdata\\roaming\\python\\python312\\site-packages (from torch) (2024.6.1)\n",
      "Requirement already satisfied: setuptools in c:\\users\\syafiq azizi\\appdata\\roaming\\python\\python312\\site-packages (from torch) (80.9.0)\n",
      "Requirement already satisfied: numpy in c:\\users\\syafiq azizi\\appdata\\roaming\\python\\python312\\site-packages (from torchvision) (1.26.4)\n",
      "Requirement already satisfied: pillow!=8.3.*,>=5.3.0 in c:\\users\\syafiq azizi\\appdata\\roaming\\python\\python312\\site-packages (from torchvision) (11.2.1)\n",
      "Requirement already satisfied: mpmath<1.4,>=1.1.0 in c:\\users\\syafiq azizi\\appdata\\roaming\\python\\python312\\site-packages (from sympy>=1.13.3->torch) (1.3.0)\n",
      "Requirement already satisfied: MarkupSafe>=2.0 in c:\\users\\syafiq azizi\\appdata\\roaming\\python\\python312\\site-packages (from jinja2->torch) (3.0.2)\n"
     ]
    }
   ],
   "source": [
    "!pip install torch torchvision torchaudio --index-url https://download.pytorch.org/whl/cpu\n"
   ]
  },
  {
   "cell_type": "code",
   "execution_count": 62,
   "id": "73841e31",
   "metadata": {},
   "outputs": [
    {
     "name": "stderr",
     "output_type": "stream",
     "text": [
      "[nltk_data] Downloading package punkt to C:\\Users\\Syafiq\n",
      "[nltk_data]     Azizi\\AppData\\Roaming\\nltk_data...\n",
      "[nltk_data]   Package punkt is already up-to-date!\n",
      "[nltk_data] Downloading package punkt_tab to C:\\Users\\Syafiq\n",
      "[nltk_data]     Azizi\\AppData\\Roaming\\nltk_data...\n",
      "[nltk_data]   Package punkt_tab is already up-to-date!\n"
     ]
    },
    {
     "data": {
      "text/plain": [
       "True"
      ]
     },
     "execution_count": 62,
     "metadata": {},
     "output_type": "execute_result"
    }
   ],
   "source": [
    "import nltk\n",
    "from nltk.tokenize import word_tokenize\n",
    "import torch\n",
    "import torch.nn as nn\n",
    "from torch.utils.data import Dataset, DataLoader\n",
    "import numpy as np\n",
    "from sklearn.preprocessing import LabelEncoder\n",
    "from sklearn.model_selection import train_test_split\n",
    "from sklearn.naive_bayes import GaussianNB\n",
    "from sklearn.linear_model import LogisticRegression\n",
    "from sklearn.metrics import accuracy_score, confusion_matrix, classification_report\n",
    "\n",
    "nltk.download('punkt')\n",
    "nltk.download('punkt_tab')"
   ]
  },
  {
   "cell_type": "code",
   "execution_count": 63,
   "id": "b25a06ff",
   "metadata": {},
   "outputs": [],
   "source": [
    "tokenized_docs = [word_tokenize(doc.lower()) for doc in df_filtered['isi_berita']]"
   ]
  },
  {
   "cell_type": "code",
   "execution_count": 64,
   "id": "e670f5ed",
   "metadata": {},
   "outputs": [],
   "source": [
    "vocab = set(word for doc in tokenized_docs for word in doc)\n",
    "word2idx = {w: i for i, w in enumerate(vocab)}\n",
    "idx2word = {i: w for w, i in word2idx.items()}\n",
    "\n",
    "vocab_size = len(vocab)\n",
    "embedding_dim = 50\n",
    "window_size = 2\n"
   ]
  },
  {
   "cell_type": "code",
   "execution_count": 65,
   "id": "4370bbcb",
   "metadata": {},
   "outputs": [],
   "source": [
    "data = []\n",
    "for doc in tokenized_docs:\n",
    "    for i, word in enumerate(doc):\n",
    "        context = []\n",
    "        for j in range(i - window_size, i + window_size + 1):\n",
    "            if j != i and 0 <= j < len(doc):\n",
    "                context.append(word2idx[doc[j]])\n",
    "        if context:\n",
    "            data.append((context, word2idx[word]))"
   ]
  },
  {
   "cell_type": "code",
   "execution_count": 66,
   "id": "d72c9a65",
   "metadata": {},
   "outputs": [],
   "source": [
    "class CBOWDataset(Dataset):\n",
    "    def __init__(self, tokenized_docs, word_to_idx, context_window=2):\n",
    "        self.data = []\n",
    "        self.context_window = context_window\n",
    "        for doc in tokenized_docs:\n",
    "            for i, word in enumerate(doc):\n",
    "                if word not in word_to_idx:\n",
    "                    continue\n",
    "                context = []\n",
    "                for j in range(i - context_window, i + context_window + 1):\n",
    "                    if j != i and j >= 0 and j < len(doc):\n",
    "                        if doc[j] in word_to_idx:\n",
    "                            context.append(word_to_idx[doc[j]])\n",
    "                if len(context) > 0:\n",
    "                    self.data.append((context, word_to_idx[word]))\n",
    "\n",
    "    def __len__(self):\n",
    "        return len(self.data)\n",
    "\n",
    "    def __getitem__(self, idx):\n",
    "        context, target = self.data[idx]\n",
    "        max_len = self.context_window * 2   # contoh: 2 kiri + 2 kanan = 4\n",
    "        # pad with zeros if not enough context\n",
    "        if len(context) < max_len:\n",
    "            context = context + [0] * (max_len - len(context))\n",
    "        else:\n",
    "            context = context[:max_len]\n",
    "        return torch.tensor(context), torch.tensor(target)\n"
   ]
  },
  {
   "cell_type": "code",
   "execution_count": 67,
   "id": "7cd0d5a1",
   "metadata": {},
   "outputs": [],
   "source": [
    "class CBOWModel(nn.Module):\n",
    "    def __init__(self, vocab_size, embedding_dim):\n",
    "        super(CBOWModel, self).__init__()\n",
    "        self.embeddings = nn.Embedding(vocab_size, embedding_dim)\n",
    "        self.linear1 = nn.Linear(embedding_dim, 128)\n",
    "        self.linear2 = nn.Linear(128, vocab_size)\n",
    "\n",
    "    def forward(self, inputs):\n",
    "        embeds = self.embeddings(inputs)\n",
    "        hidden = torch.mean(embeds, dim=1)  # rata-rata embedding context\n",
    "        out = self.linear1(hidden)\n",
    "        out = torch.relu(out)\n",
    "        out = self.linear2(out)\n",
    "        return out"
   ]
  },
  {
   "cell_type": "code",
   "execution_count": 68,
   "id": "17f517fe",
   "metadata": {},
   "outputs": [],
   "source": [
    "doc_embeddings = []\n",
    "for doc in tokenized_docs:\n",
    "    idxs = [word2idx[w] for w in doc if w in word2idx]\n",
    "    if idxs:\n",
    "        embeddings = model.embeddings(torch.tensor(idxs))\n",
    "        doc_embedding = embeddings.mean(dim=0).detach().numpy()\n",
    "        doc_embeddings.append(doc_embedding)\n",
    "    else:\n",
    "        doc_embeddings.append(np.zeros(embedding_dim))\n",
    "\n",
    "X_cbow = np.array(doc_embeddings)"
   ]
  },
  {
   "cell_type": "code",
   "execution_count": 78,
   "id": "829e7b78",
   "metadata": {},
   "outputs": [],
   "source": [
    "le = LabelEncoder()\n",
    "y = le.fit_transform(df_filtered['kategori_berita'])\n",
    "\n",
    "X_train_cbow, X_test_cbow, y_train_cbow, y_test_cbow = train_test_split(\n",
    "    X_cbow, y, test_size=0.2, random_state=42, stratify=y\n",
    ")\n"
   ]
  },
  {
   "cell_type": "code",
   "execution_count": 80,
   "id": "809dc3cb",
   "metadata": {},
   "outputs": [
    {
     "name": "stdout",
     "output_type": "stream",
     "text": [
      "\n",
      "=== CBOW + Naive Bayes ===\n",
      "Accuracy: 0.5555555555555556\n",
      "Confusion Matrix:\n",
      " [[1 1 0 0 0]\n",
      " [0 4 0 0 0]\n",
      " [0 1 0 0 0]\n",
      " [0 1 0 0 0]\n",
      " [0 1 0 0 0]]\n",
      "Classification Report:\n",
      "               precision    recall  f1-score   support\n",
      "\n",
      "           2       1.00      0.50      0.67         2\n",
      "           3       0.50      1.00      0.67         4\n",
      "           5       0.00      0.00      0.00         1\n",
      "           7       0.00      0.00      0.00         1\n",
      "           8       0.00      0.00      0.00         1\n",
      "\n",
      "    accuracy                           0.56         9\n",
      "   macro avg       0.30      0.30      0.27         9\n",
      "weighted avg       0.44      0.56      0.44         9\n",
      "\n"
     ]
    },
    {
     "name": "stderr",
     "output_type": "stream",
     "text": [
      "C:\\Users\\Syafiq Azizi\\AppData\\Roaming\\Python\\Python312\\site-packages\\sklearn\\metrics\\_classification.py:1509: UndefinedMetricWarning: Precision is ill-defined and being set to 0.0 in labels with no predicted samples. Use `zero_division` parameter to control this behavior.\n",
      "  _warn_prf(average, modifier, f\"{metric.capitalize()} is\", len(result))\n",
      "C:\\Users\\Syafiq Azizi\\AppData\\Roaming\\Python\\Python312\\site-packages\\sklearn\\metrics\\_classification.py:1509: UndefinedMetricWarning: Precision is ill-defined and being set to 0.0 in labels with no predicted samples. Use `zero_division` parameter to control this behavior.\n",
      "  _warn_prf(average, modifier, f\"{metric.capitalize()} is\", len(result))\n",
      "C:\\Users\\Syafiq Azizi\\AppData\\Roaming\\Python\\Python312\\site-packages\\sklearn\\metrics\\_classification.py:1509: UndefinedMetricWarning: Precision is ill-defined and being set to 0.0 in labels with no predicted samples. Use `zero_division` parameter to control this behavior.\n",
      "  _warn_prf(average, modifier, f\"{metric.capitalize()} is\", len(result))\n"
     ]
    }
   ],
   "source": [
    "nb_model = GaussianNB()\n",
    "nb_model.fit(X_train_cbow, y_train_cbow)\n",
    "y_pred_nb_cbow = nb_model.predict(X_test_cbow)\n",
    "\n",
    "print(\"\\n=== CBOW + Naive Bayes ===\")\n",
    "print(\"Accuracy:\", accuracy_score(y_test_cbow, y_pred_nb_cbow))\n",
    "print(\"Confusion Matrix:\\n\", confusion_matrix(y_test_cbow, y_pred_nb_cbow))\n",
    "print(\"Classification Report:\\n\", classification_report(y_test_cbow, y_pred_nb_cbow))"
   ]
  },
  {
   "cell_type": "code",
   "execution_count": 79,
   "id": "092ae3c0",
   "metadata": {},
   "outputs": [
    {
     "name": "stdout",
     "output_type": "stream",
     "text": [
      "\n",
      "=== CBOW + Logistic Regression ===\n",
      "Accuracy: 0.4444444444444444\n",
      "Confusion Matrix:\n",
      " [[0 2 0 0 0]\n",
      " [0 4 0 0 0]\n",
      " [0 1 0 0 0]\n",
      " [0 1 0 0 0]\n",
      " [0 1 0 0 0]]\n",
      "Classification Report:\n",
      "               precision    recall  f1-score   support\n",
      "\n",
      "           2       0.00      0.00      0.00         2\n",
      "           3       0.44      1.00      0.62         4\n",
      "           5       0.00      0.00      0.00         1\n",
      "           7       0.00      0.00      0.00         1\n",
      "           8       0.00      0.00      0.00         1\n",
      "\n",
      "    accuracy                           0.44         9\n",
      "   macro avg       0.09      0.20      0.12         9\n",
      "weighted avg       0.20      0.44      0.27         9\n",
      "\n"
     ]
    },
    {
     "name": "stderr",
     "output_type": "stream",
     "text": [
      "C:\\Users\\Syafiq Azizi\\AppData\\Roaming\\Python\\Python312\\site-packages\\sklearn\\metrics\\_classification.py:1509: UndefinedMetricWarning: Precision is ill-defined and being set to 0.0 in labels with no predicted samples. Use `zero_division` parameter to control this behavior.\n",
      "  _warn_prf(average, modifier, f\"{metric.capitalize()} is\", len(result))\n",
      "C:\\Users\\Syafiq Azizi\\AppData\\Roaming\\Python\\Python312\\site-packages\\sklearn\\metrics\\_classification.py:1509: UndefinedMetricWarning: Precision is ill-defined and being set to 0.0 in labels with no predicted samples. Use `zero_division` parameter to control this behavior.\n",
      "  _warn_prf(average, modifier, f\"{metric.capitalize()} is\", len(result))\n",
      "C:\\Users\\Syafiq Azizi\\AppData\\Roaming\\Python\\Python312\\site-packages\\sklearn\\metrics\\_classification.py:1509: UndefinedMetricWarning: Precision is ill-defined and being set to 0.0 in labels with no predicted samples. Use `zero_division` parameter to control this behavior.\n",
      "  _warn_prf(average, modifier, f\"{metric.capitalize()} is\", len(result))\n"
     ]
    }
   ],
   "source": [
    "lr_model = LogisticRegression(max_iter=1000)\n",
    "lr_model.fit(X_train_cbow, y_train_cbow)\n",
    "y_pred_lr_cbow = lr_model.predict(X_test_cbow)\n",
    "\n",
    "print(\"\\n=== CBOW + Logistic Regression ===\")\n",
    "print(\"Accuracy:\", accuracy_score(y_test_cbow, y_pred_lr_cbow))\n",
    "print(\"Confusion Matrix:\\n\", confusion_matrix(y_test_cbow, y_pred_lr_cbow))\n",
    "print(\"Classification Report:\\n\", classification_report(y_test_cbow, y_pred_lr_cbow))"
   ]
  },
  {
   "cell_type": "code",
   "execution_count": 82,
   "id": "8b609a28",
   "metadata": {},
   "outputs": [
    {
     "data": {
      "image/png": "[encoded data removed]",
      "text/plain": [
       "<Figure size 800x600 with 1 Axes>"
      ]
     },
     "metadata": {},
     "output_type": "display_data"
    }
   ],
   "source": [
    "import matplotlib.pyplot as plt\n",
    "\n",
    "# Setelah TF-IDF\n",
    "acc_nb_tfidf = accuracy_score(y_test_tfidf, y_pred_nb_tfidf)\n",
    "acc_lr_tfidf = accuracy_score(y_test_tfidf, y_pred_lr_tfidf)\n",
    "\n",
    "# Setelah CBOW\n",
    "acc_nb_cbow = accuracy_score(y_test_cbow, y_pred_nb_cbow)\n",
    "acc_lr_cbow = accuracy_score(y_test_cbow, y_pred_lr_cbow)\n",
    "\n",
    "\n",
    "# Data hasil akurasi\n",
    "models = [\n",
    "    \"TF-IDF + Naive Bayes\",\n",
    "    \"TF-IDF + Logistic Regression\",\n",
    "    \"CBOW + Naive Bayes\",\n",
    "    \"CBOW + Logistic Regression\"\n",
    "]\n",
    "accuracies = [acc_nb_tfidf, acc_lr_tfidf, acc_nb_cbow, acc_lr_cbow]\n",
    "\n",
    "# Plot diagram batang\n",
    "plt.figure(figsize=(8,6))\n",
    "bars = plt.bar(models, accuracies, color=\"skyblue\", edgecolor=\"black\")\n",
    "\n",
    "# Tambahkan label angka di atas batang\n",
    "for bar, acc in zip(bars, accuracies):\n",
    "    plt.text(bar.get_x() + bar.get_width()/2, bar.get_height(),\n",
    "             f\"{acc:.2f}\", ha=\"center\", va=\"bottom\", fontsize=10)\n",
    "\n",
    "plt.title(\"Perbandingan Akurasi Model (TF-IDF vs CBOW)\")\n",
    "plt.ylabel(\"Accuracy\")\n",
    "plt.xticks(rotation=20, ha=\"right\")\n",
    "plt.ylim(0,1)  # karena akurasi selalu antara 0-1\n",
    "plt.tight_layout()\n",
    "plt.show()\n"
   ]
  }
 ],
 "metadata": {
  "kernelspec": {
   "display_name": "Python 3",
   "language": "python",
   "name": "python3"
  },
  "language_info": {
   "codemirror_mode": {
    "name": "ipython",
    "version": 3
   },
   "file_extension": ".py",
   "mimetype": "text/x-python",
   "name": "python",
   "nbconvert_exporter": "python",
   "pygments_lexer": "ipython3",
   "version": "3.12.7"
  }
 },
 "nbformat": 4,
 "nbformat_minor": 5
}
