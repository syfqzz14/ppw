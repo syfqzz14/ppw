{
  "nbformat": 4,
  "nbformat_minor": 0,
  "metadata": {
    "colab": {
      "provenance": []
    },
    "kernelspec": {
      "name": "python3",
      "display_name": "Python 3"
    },
    "language_info": {
      "name": "python"
    }
  },
  "cells": [
    {
      "cell_type": "markdown",
      "source": [
        "# 📘 Pengantar Web Mining\n",
        "\n",
        "## 🔎 Apa itu Web Mining?\n",
        "Web Mining adalah **proses menemukan dan mengekstrak informasi dari internet** menggunakan berbagai teknik penambangan data.  \n",
        "Informasi ini berguna untuk mendukung **pengambilan keputusan**, riset, maupun pengembangan sistem cerdas.  \n",
        "\n",
        "- Etzioni (1996): *“Penggunaan teknik penambangan data untuk secara otomatis menemukan dan mengekstrak informasi dari layanan web.”*  \n",
        "- Bing Liu (2007): *“Penambangan web bertujuan menemukan pola berguna atau pengetahuan dari struktur hiperlink web, isi halaman, serta perilaku pengguna.”*\n",
        "\n",
        "---\n",
        "\n",
        "## 🎯 Tujuan\n",
        "- Memahami konsep dasar dan teknologi web mining.  \n",
        "- Mampu melakukan penelitian dan pengembangan sistem berbasis web mining.  \n",
        "\n",
        "---\n",
        "\n",
        "## ⚡ Tantangan Pemrosesan Data Web\n",
        "- Web sangat besar (big data).  \n",
        "- Data dalam berbagai format (HTML, XML, teks, multimedia).  \n",
        "- Dinamis → konten sering berubah.  \n",
        "- Kompleks → berisi teks, gambar, audio, video, graph, dll.  \n",
        "- Domain umum (general), bukan spesifik.  \n",
        "\n",
        "---\n",
        "\n",
        "## 🗂️ Jenis Web Mining\n",
        "1. **Web Content Mining** → mengekstrak informasi dari isi halaman web.  \n",
        "2. **Web Usage Mining** → menganalisis data perilaku pengguna web.  \n",
        "3. **Web Structure Mining** → menemukan pola dari hyperlink & jaringan sosial.  \n",
        "\n",
        "---\n",
        "\n",
        "## 🛠️ Teknik Penting\n",
        "- **Text Mining**: klasifikasi, clustering, topic modelling, sentiment analysis  \n",
        "- **Usage Mining**: clickstream analysis, recommendation system  \n",
        "- **Structure Mining**: PageRank, centrality, deteksi komunitas  \n",
        "\n",
        "---\n",
        "\n",
        "## 🔄 Proses Web Mining\n",
        "1. Data Gathering & Exploration  \n",
        "2. Preprocessing & Transformation  \n",
        "3. Data Mining (klasifikasi, clustering, dll)  \n",
        "4. Evaluation & Deployment  \n",
        "\n",
        "---\n",
        "\n",
        "## 🌍 Aplikasi Nyata\n",
        "- Google Search → PageRank  \n",
        "- E-commerce → rekomendasi produk  \n",
        "- Media Sosial → deteksi influencer  \n",
        "- Analisis sosial & politik → analisis opini publik  \n"
      ],
      "metadata": {
        "id": "pObsNXeD3XIO"
      }
    }
  ]
}